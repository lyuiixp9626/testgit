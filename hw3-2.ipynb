{
 "cells": [
  {
   "cell_type": "code",
   "execution_count": 1,
   "metadata": {},
   "outputs": [],
   "source": [
    "#파일에 실수값들이 저장. 합계와 평균을 계산후에 output파일에 저장\n",
    "infile = open(\"numbers.txt\",\"r\")\n",
    "line = infile.readlines()\n",
    "infile.close()\n",
    "\n",
    "outfile = open(\"output1.txt\",\"w\")\n",
    "a=0\n",
    "sum1=0\n",
    "for word in line:\n",
    "    x = float(word)\n",
    "    a+=1\n",
    "    sum1+=x\n",
    "\n",
    "x=\"합계 =\" +str(sum1)+\"\\n평균 =\" +str((sum1/a))\n",
    "outfile.write(x)\n",
    "\n",
    "outfile.close()\n"
   ]
  },
  {
   "cell_type": "code",
   "execution_count": null,
   "metadata": {},
   "outputs": [],
   "source": []
  },
  {
   "cell_type": "code",
   "execution_count": null,
   "metadata": {},
   "outputs": [],
   "source": []
  }
 ],
 "metadata": {
  "kernelspec": {
   "display_name": "Python 3",
   "language": "python",
   "name": "python3"
  },
  "language_info": {
   "codemirror_mode": {
    "name": "ipython",
    "version": 3
   },
   "file_extension": ".py",
   "mimetype": "text/x-python",
   "name": "python",
   "nbconvert_exporter": "python",
   "pygments_lexer": "ipython3",
   "version": "3.7.6"
  }
 },
 "nbformat": 4,
 "nbformat_minor": 4
}
